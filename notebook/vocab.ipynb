{
 "cells": [
  {
   "cell_type": "code",
   "execution_count": 1,
   "metadata": {},
   "outputs": [],
   "source": [
    "import pandas as pd\n",
    "import json"
   ]
  },
  {
   "cell_type": "code",
   "execution_count": 2,
   "metadata": {},
   "outputs": [
    {
     "data": {
      "text/html": [
       "<div>\n",
       "<style scoped>\n",
       "    .dataframe tbody tr th:only-of-type {\n",
       "        vertical-align: middle;\n",
       "    }\n",
       "\n",
       "    .dataframe tbody tr th {\n",
       "        vertical-align: top;\n",
       "    }\n",
       "\n",
       "    .dataframe thead th {\n",
       "        text-align: right;\n",
       "    }\n",
       "</style>\n",
       "<table border=\"1\" class=\"dataframe\">\n",
       "  <thead>\n",
       "    <tr style=\"text-align: right;\">\n",
       "      <th></th>\n",
       "      <th>file_name</th>\n",
       "      <th>transcription</th>\n",
       "    </tr>\n",
       "  </thead>\n",
       "  <tbody>\n",
       "    <tr>\n",
       "      <th>0</th>\n",
       "      <td>data/train/KsponSpeech_000001.wav</td>\n",
       "      <td>아 몬 소리야 그건 또</td>\n",
       "    </tr>\n",
       "    <tr>\n",
       "      <th>1</th>\n",
       "      <td>data/train/KsponSpeech_000002.wav</td>\n",
       "      <td>나는 악습은 원래 없어진다 없어져야 된...</td>\n",
       "    </tr>\n",
       "    <tr>\n",
       "      <th>2</th>\n",
       "      <td>data/train/KsponSpeech_000003.wav</td>\n",
       "      <td>그래서 지호랑 계단 올라와서 막 위에 운동...</td>\n",
       "    </tr>\n",
       "    <tr>\n",
       "      <th>3</th>\n",
       "      <td>data/train/KsponSpeech_000004.wav</td>\n",
       "      <td>뭐 정신과 병원도 그 약 타서 먹어보고 그 ...</td>\n",
       "    </tr>\n",
       "    <tr>\n",
       "      <th>4</th>\n",
       "      <td>data/train/KsponSpeech_000005.wav</td>\n",
       "      <td>그게 영 점 일 프로 가정의 아이들과 가정ᄋ...</td>\n",
       "    </tr>\n",
       "  </tbody>\n",
       "</table>\n",
       "</div>"
      ],
      "text/plain": [
       "                           file_name  \\\n",
       "0  data/train/KsponSpeech_000001.wav   \n",
       "1  data/train/KsponSpeech_000002.wav   \n",
       "2  data/train/KsponSpeech_000003.wav   \n",
       "3  data/train/KsponSpeech_000004.wav   \n",
       "4  data/train/KsponSpeech_000005.wav   \n",
       "\n",
       "                                       transcription  \n",
       "0                             아 몬 소리야 그건 또  \n",
       "1  나는 악습은 원래 없어진다 없어져야 된...  \n",
       "2  그래서 지호랑 계단 올라와서 막 위에 운동...  \n",
       "3  뭐 정신과 병원도 그 약 타서 먹어보고 그 ...  \n",
       "4  그게 영 점 일 프로 가정의 아이들과 가정ᄋ...  "
      ]
     },
     "execution_count": 2,
     "metadata": {},
     "output_type": "execute_result"
    }
   ],
   "source": [
    "df = pd.read_csv('../data/metadata.csv')\n",
    "df.head()"
   ]
  },
  {
   "cell_type": "code",
   "execution_count": 26,
   "metadata": {},
   "outputs": [],
   "source": [
    "all_text = \" \".join(df['transcription'].tolist())\n",
    "\n",
    "vocab = list(set(all_text))\n",
    "vocab_dict = {v: k for k, v in enumerate(vocab)}\n",
    "\n",
    "vocab_dict[\"__\"] = vocab_dict[\" \"]\n",
    "vocab_dict.pop(\" \")\n",
    "vocab_dict[\"[UNK]\"] = len(vocab_dict)\n",
    "vocab_dict[\"[PAD]\"] = len(vocab_dict)\n",
    "\n",
    "json_fn = '../vocab/vocab.json'\n",
    "with open(json_fn, 'w', encoding=\"UTF-8\") as f:\n",
    "    json.dump(vocab_dict, f, ensure_ascii=False)"
   ]
  },
  {
   "cell_type": "code",
   "execution_count": 27,
   "metadata": {},
   "outputs": [],
   "source": [
    "with open(json_fn, 'r') as f:\n",
    "    after = json.load(f)"
   ]
  },
  {
   "cell_type": "code",
   "execution_count": 28,
   "metadata": {},
   "outputs": [
    {
     "data": {
      "text/plain": [
       "{'ᆫ': 0,\n",
       " 'ᅣ': 1,\n",
       " 'ᆺ': 2,\n",
       " 'ᅨ': 3,\n",
       " 'ᇁ': 4,\n",
       " 'ᄉ': 5,\n",
       " 'ᄎ': 6,\n",
       " 'ᅢ': 7,\n",
       " 'ᆰ': 8,\n",
       " 'ᆿ': 9,\n",
       " 'ᆾ': 10,\n",
       " 'ᄈ': 12,\n",
       " 'ᅡ': 13,\n",
       " 'ᄑ': 14,\n",
       " 'ᅲ': 15,\n",
       " 'ᆷ': 16,\n",
       " 'ᆪ': 17,\n",
       " 'ᄀ': 18,\n",
       " 'ᅴ': 19,\n",
       " 'ᄃ': 20,\n",
       " 'ᄅ': 21,\n",
       " 'ᆶ': 22,\n",
       " 'ᅳ': 23,\n",
       " 'ᆱ': 24,\n",
       " 'ᆹ': 25,\n",
       " 'ᄋ': 26,\n",
       " 'ᆭ': 27,\n",
       " 'ᅩ': 28,\n",
       " 'ᄂ': 29,\n",
       " 'ᅬ': 30,\n",
       " 'ᄏ': 31,\n",
       " 'ᄒ': 32,\n",
       " 'ᆬ': 33,\n",
       " 'ᄇ': 34,\n",
       " 'ᅤ': 35,\n",
       " 'ᆽ': 36,\n",
       " 'ᅥ': 37,\n",
       " 'ᅫ': 38,\n",
       " 'ᅱ': 39,\n",
       " 'ᄌ': 40,\n",
       " 'ᆼ': 41,\n",
       " 'ᆯ': 42,\n",
       " 'ᆨ': 43,\n",
       " 'ᆩ': 44,\n",
       " 'ᇀ': 45,\n",
       " 'ᅯ': 46,\n",
       " 'ᄆ': 47,\n",
       " 'ᅰ': 48,\n",
       " 'ᄄ': 49,\n",
       " 'ᅮ': 50,\n",
       " 'ᅵ': 51,\n",
       " 'ᄐ': 52,\n",
       " 'ᆵ': 53,\n",
       " 'ᅪ': 54,\n",
       " 'ᆻ': 55,\n",
       " 'ᅧ': 56,\n",
       " 'ᆸ': 57,\n",
       " 'ᇂ': 58,\n",
       " 'ᆮ': 59,\n",
       " 'ᄁ': 60,\n",
       " 'ᅭ': 61,\n",
       " 'ᆲ': 62,\n",
       " 'ᆴ': 63,\n",
       " 'ᄊ': 64,\n",
       " 'ᄍ': 65,\n",
       " 'ᅦ': 66,\n",
       " '__': 11,\n",
       " '[UNK]': 67,\n",
       " '[PAD]': 68}"
      ]
     },
     "execution_count": 28,
     "metadata": {},
     "output_type": "execute_result"
    }
   ],
   "source": [
    "after"
   ]
  }
 ],
 "metadata": {
  "kernelspec": {
   "display_name": "Python 3.11.6 ('speech_recognition')",
   "language": "python",
   "name": "python3"
  },
  "language_info": {
   "codemirror_mode": {
    "name": "ipython",
    "version": 3
   },
   "file_extension": ".py",
   "mimetype": "text/x-python",
   "name": "python",
   "nbconvert_exporter": "python",
   "pygments_lexer": "ipython3",
   "version": "3.11.6"
  },
  "orig_nbformat": 4,
  "vscode": {
   "interpreter": {
    "hash": "be2ab6c7c1df19e1d3562870aba4e3a9ecb730f664b0912514164e617d0db9b1"
   }
  }
 },
 "nbformat": 4,
 "nbformat_minor": 2
}
